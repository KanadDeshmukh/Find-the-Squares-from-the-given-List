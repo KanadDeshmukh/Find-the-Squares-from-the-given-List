{
 "cells": [
  {
   "cell_type": "code",
   "execution_count": 8,
   "id": "11f369be",
   "metadata": {},
   "outputs": [
    {
     "data": {
      "text/plain": [
       "[16, 25, 4, 81]"
      ]
     },
     "execution_count": 8,
     "metadata": {},
     "output_type": "execute_result"
    }
   ],
   "source": [
    "def squre(num):\n",
    "    return num**2\n",
    "l=[4, 5, 2, 9]\n",
    "list(map(squre,l))"
   ]
  },
  {
   "cell_type": "code",
   "execution_count": null,
   "id": "5eadf51a",
   "metadata": {},
   "outputs": [],
   "source": []
  }
 ],
 "metadata": {
  "kernelspec": {
   "display_name": "Python 3 (ipykernel)",
   "language": "python",
   "name": "python3"
  },
  "language_info": {
   "codemirror_mode": {
    "name": "ipython",
    "version": 3
   },
   "file_extension": ".py",
   "mimetype": "text/x-python",
   "name": "python",
   "nbconvert_exporter": "python",
   "pygments_lexer": "ipython3",
   "version": "3.9.6"
  }
 },
 "nbformat": 4,
 "nbformat_minor": 5
}
